{
 "cells": [
  {
   "cell_type": "code",
   "execution_count": 1,
   "id": "aeaa3f74",
   "metadata": {},
   "outputs": [],
   "source": [
    "import pyqrcode\n",
    "import png\n",
    "link = \"https://flask--prediction.herokuapp.com/\"\n",
    "qr_code = pyqrcode.create(link)\n",
    "qr_code.png(\"Forest Fire Prediction.png\", scale=5)"
   ]
  },
  {
   "cell_type": "code",
   "execution_count": 2,
   "id": "986b73ed",
   "metadata": {},
   "outputs": [],
   "source": [
    "link = \"https://www.linkedin.com/in/dayo-oyeyemi-809594229/\"\n",
    "qr_code = pyqrcode.create(link)\n",
    "qr_code.png(\"Dayo Oyeeyemi linkedin Profile.png\", scale=5)"
   ]
  }
 ],
 "metadata": {
  "kernelspec": {
   "display_name": "Python 3.9.7 64-bit",
   "language": "python",
   "name": "python3"
  },
  "language_info": {
   "codemirror_mode": {
    "name": "ipython",
    "version": 3
   },
   "file_extension": ".py",
   "mimetype": "text/x-python",
   "name": "python",
   "nbconvert_exporter": "python",
   "pygments_lexer": "ipython3",
   "version": "3.9.7"
  },
  "vscode": {
   "interpreter": {
    "hash": "1a64f954787cd6c49ae44ffbb2295060a51070908123d77830c4d50e306005fd"
   }
  }
 },
 "nbformat": 4,
 "nbformat_minor": 5
}
